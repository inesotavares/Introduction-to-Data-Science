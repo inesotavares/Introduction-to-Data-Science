{
  "cells": [
    {
      "cell_type": "markdown",
      "metadata": {
        "id": "view-in-github",
        "colab_type": "text"
      },
      "source": [
        "<a href=\"https://colab.research.google.com/github/inesotavares/Introduction-to-Data-Science/blob/main/Homework_1.ipynb\" target=\"_parent\"><img src=\"https://colab.research.google.com/assets/colab-badge.svg\" alt=\"Open In Colab\"/></a>"
      ]
    },
    {
      "cell_type": "markdown",
      "metadata": {
        "id": "BSp3M6tGq0nS"
      },
      "source": [
        "# DataBase Titanic"
      ]
    },
    {
      "cell_type": "code",
      "execution_count": null,
      "metadata": {
        "id": "1SvCFKGFq0nT"
      },
      "outputs": [],
      "source": [
        "import pandas as pd\n",
        "d = pd.read_csv('/Users/inestavares/Desktop/birthwt.csv',sep=';')"
      ]
    },
    {
      "cell_type": "code",
      "execution_count": null,
      "metadata": {
        "id": "WyiocS1pq0nU",
        "outputId": "203eeb43-94f7-4195-d37a-fb258cf5aede"
      },
      "outputs": [
        {
          "name": "stdout",
          "output_type": "stream",
          "text": [
            "    low  age  lwt  race  smoke  ptl  ht  ui  ftv   bwt\n",
            "0     0   19  182     2      0    0   0   1    0  2523\n",
            "1     0   33  155     3      0    0   0   0    3  2551\n",
            "2     0   20  105     1      1    0   0   0    1  2557\n",
            "3     0   21  108     1      1    0   0   1    2  2594\n",
            "4     0   18  107     1      1    0   0   1    0  2600\n",
            "..   ..  ...  ...   ...    ...  ...  ..  ..  ...   ...\n",
            "184   1   28   95     1      1    0   0   0    2  2466\n",
            "185   1   14  100     3      0    0   0   0    2  2495\n",
            "186   1   23   94     3      1    0   0   0    0  2495\n",
            "187   1   17  142     2      0    0   1   0    0  2495\n",
            "188   1   21  130     1      1    0   1   0    3  2495\n",
            "\n",
            "[189 rows x 10 columns]\n"
          ]
        }
      ],
      "source": [
        "print(d)"
      ]
    },
    {
      "cell_type": "code",
      "execution_count": null,
      "metadata": {
        "id": "0Va4duY3q0nV"
      },
      "outputs": [],
      "source": [
        "d['low']=pd.Categorical(d.low)\n",
        "d['race']=pd.Categorical(d.race)\n",
        "d['race'].replace([1,2,3],\n",
        "                        ['white', 'black','other'], inplace=True)\n",
        "d['smoke']=pd.Categorical(d.smoke)\n",
        "d['ptl']=pd.Categorical(d.ptl)\n",
        "d['ht']=pd.Categorical(d.ht)\n",
        "d['ui']=pd.Categorical(d.ui)\n",
        "d['ftv']=pd.Categorical(d.ftv)\n"
      ]
    },
    {
      "cell_type": "code",
      "execution_count": null,
      "metadata": {
        "scrolled": false,
        "id": "-FfaLSuuq0nV",
        "outputId": "8daf2ccf-249a-44ea-dc5d-7ac03cc395cd"
      },
      "outputs": [
        {
          "data": {
            "text/html": [
              "<div>\n",
              "<style scoped>\n",
              "    .dataframe tbody tr th:only-of-type {\n",
              "        vertical-align: middle;\n",
              "    }\n",
              "\n",
              "    .dataframe tbody tr th {\n",
              "        vertical-align: top;\n",
              "    }\n",
              "\n",
              "    .dataframe thead th {\n",
              "        text-align: right;\n",
              "    }\n",
              "</style>\n",
              "<table border=\"1\" class=\"dataframe\">\n",
              "  <thead>\n",
              "    <tr style=\"text-align: right;\">\n",
              "      <th></th>\n",
              "      <th>low</th>\n",
              "      <th>age</th>\n",
              "      <th>lwt</th>\n",
              "      <th>race</th>\n",
              "      <th>smoke</th>\n",
              "      <th>ptl</th>\n",
              "      <th>ht</th>\n",
              "      <th>ui</th>\n",
              "      <th>ftv</th>\n",
              "      <th>bwt</th>\n",
              "    </tr>\n",
              "  </thead>\n",
              "  <tbody>\n",
              "    <tr>\n",
              "      <th>count</th>\n",
              "      <td>189.0</td>\n",
              "      <td>189.000000</td>\n",
              "      <td>189.000000</td>\n",
              "      <td>189</td>\n",
              "      <td>189.0</td>\n",
              "      <td>189.0</td>\n",
              "      <td>189.0</td>\n",
              "      <td>189.0</td>\n",
              "      <td>189.0</td>\n",
              "      <td>189.000000</td>\n",
              "    </tr>\n",
              "    <tr>\n",
              "      <th>unique</th>\n",
              "      <td>2.0</td>\n",
              "      <td>NaN</td>\n",
              "      <td>NaN</td>\n",
              "      <td>3</td>\n",
              "      <td>2.0</td>\n",
              "      <td>4.0</td>\n",
              "      <td>2.0</td>\n",
              "      <td>2.0</td>\n",
              "      <td>6.0</td>\n",
              "      <td>NaN</td>\n",
              "    </tr>\n",
              "    <tr>\n",
              "      <th>top</th>\n",
              "      <td>0.0</td>\n",
              "      <td>NaN</td>\n",
              "      <td>NaN</td>\n",
              "      <td>white</td>\n",
              "      <td>0.0</td>\n",
              "      <td>0.0</td>\n",
              "      <td>0.0</td>\n",
              "      <td>0.0</td>\n",
              "      <td>0.0</td>\n",
              "      <td>NaN</td>\n",
              "    </tr>\n",
              "    <tr>\n",
              "      <th>freq</th>\n",
              "      <td>130.0</td>\n",
              "      <td>NaN</td>\n",
              "      <td>NaN</td>\n",
              "      <td>96</td>\n",
              "      <td>115.0</td>\n",
              "      <td>159.0</td>\n",
              "      <td>177.0</td>\n",
              "      <td>161.0</td>\n",
              "      <td>100.0</td>\n",
              "      <td>NaN</td>\n",
              "    </tr>\n",
              "    <tr>\n",
              "      <th>mean</th>\n",
              "      <td>NaN</td>\n",
              "      <td>23.238095</td>\n",
              "      <td>129.814815</td>\n",
              "      <td>NaN</td>\n",
              "      <td>NaN</td>\n",
              "      <td>NaN</td>\n",
              "      <td>NaN</td>\n",
              "      <td>NaN</td>\n",
              "      <td>NaN</td>\n",
              "      <td>2944.587302</td>\n",
              "    </tr>\n",
              "    <tr>\n",
              "      <th>std</th>\n",
              "      <td>NaN</td>\n",
              "      <td>5.298678</td>\n",
              "      <td>30.579380</td>\n",
              "      <td>NaN</td>\n",
              "      <td>NaN</td>\n",
              "      <td>NaN</td>\n",
              "      <td>NaN</td>\n",
              "      <td>NaN</td>\n",
              "      <td>NaN</td>\n",
              "      <td>729.214295</td>\n",
              "    </tr>\n",
              "    <tr>\n",
              "      <th>min</th>\n",
              "      <td>NaN</td>\n",
              "      <td>14.000000</td>\n",
              "      <td>80.000000</td>\n",
              "      <td>NaN</td>\n",
              "      <td>NaN</td>\n",
              "      <td>NaN</td>\n",
              "      <td>NaN</td>\n",
              "      <td>NaN</td>\n",
              "      <td>NaN</td>\n",
              "      <td>709.000000</td>\n",
              "    </tr>\n",
              "    <tr>\n",
              "      <th>25%</th>\n",
              "      <td>NaN</td>\n",
              "      <td>19.000000</td>\n",
              "      <td>110.000000</td>\n",
              "      <td>NaN</td>\n",
              "      <td>NaN</td>\n",
              "      <td>NaN</td>\n",
              "      <td>NaN</td>\n",
              "      <td>NaN</td>\n",
              "      <td>NaN</td>\n",
              "      <td>2414.000000</td>\n",
              "    </tr>\n",
              "    <tr>\n",
              "      <th>50%</th>\n",
              "      <td>NaN</td>\n",
              "      <td>23.000000</td>\n",
              "      <td>121.000000</td>\n",
              "      <td>NaN</td>\n",
              "      <td>NaN</td>\n",
              "      <td>NaN</td>\n",
              "      <td>NaN</td>\n",
              "      <td>NaN</td>\n",
              "      <td>NaN</td>\n",
              "      <td>2977.000000</td>\n",
              "    </tr>\n",
              "    <tr>\n",
              "      <th>75%</th>\n",
              "      <td>NaN</td>\n",
              "      <td>26.000000</td>\n",
              "      <td>140.000000</td>\n",
              "      <td>NaN</td>\n",
              "      <td>NaN</td>\n",
              "      <td>NaN</td>\n",
              "      <td>NaN</td>\n",
              "      <td>NaN</td>\n",
              "      <td>NaN</td>\n",
              "      <td>3487.000000</td>\n",
              "    </tr>\n",
              "    <tr>\n",
              "      <th>max</th>\n",
              "      <td>NaN</td>\n",
              "      <td>45.000000</td>\n",
              "      <td>250.000000</td>\n",
              "      <td>NaN</td>\n",
              "      <td>NaN</td>\n",
              "      <td>NaN</td>\n",
              "      <td>NaN</td>\n",
              "      <td>NaN</td>\n",
              "      <td>NaN</td>\n",
              "      <td>4990.000000</td>\n",
              "    </tr>\n",
              "  </tbody>\n",
              "</table>\n",
              "</div>"
            ],
            "text/plain": [
              "          low         age         lwt   race  smoke    ptl     ht     ui  \\\n",
              "count   189.0  189.000000  189.000000    189  189.0  189.0  189.0  189.0   \n",
              "unique    2.0         NaN         NaN      3    2.0    4.0    2.0    2.0   \n",
              "top       0.0         NaN         NaN  white    0.0    0.0    0.0    0.0   \n",
              "freq    130.0         NaN         NaN     96  115.0  159.0  177.0  161.0   \n",
              "mean      NaN   23.238095  129.814815    NaN    NaN    NaN    NaN    NaN   \n",
              "std       NaN    5.298678   30.579380    NaN    NaN    NaN    NaN    NaN   \n",
              "min       NaN   14.000000   80.000000    NaN    NaN    NaN    NaN    NaN   \n",
              "25%       NaN   19.000000  110.000000    NaN    NaN    NaN    NaN    NaN   \n",
              "50%       NaN   23.000000  121.000000    NaN    NaN    NaN    NaN    NaN   \n",
              "75%       NaN   26.000000  140.000000    NaN    NaN    NaN    NaN    NaN   \n",
              "max       NaN   45.000000  250.000000    NaN    NaN    NaN    NaN    NaN   \n",
              "\n",
              "          ftv          bwt  \n",
              "count   189.0   189.000000  \n",
              "unique    6.0          NaN  \n",
              "top       0.0          NaN  \n",
              "freq    100.0          NaN  \n",
              "mean      NaN  2944.587302  \n",
              "std       NaN   729.214295  \n",
              "min       NaN   709.000000  \n",
              "25%       NaN  2414.000000  \n",
              "50%       NaN  2977.000000  \n",
              "75%       NaN  3487.000000  \n",
              "max       NaN  4990.000000  "
            ]
          },
          "execution_count": 104,
          "metadata": {},
          "output_type": "execute_result"
        }
      ],
      "source": [
        "d[::].describe(include='all')"
      ]
    },
    {
      "cell_type": "markdown",
      "metadata": {
        "id": "DXSMHtpnq0nV"
      },
      "source": [
        "The database has 189 entries and 10 variables, 3 being quantitatives and 7 qualitatives.\n",
        "This table summarises the dataset, giving the 5 point statistics, the standard deviation and the average for the numerival variables, and the top and frequency for the cathegorical variables. It also detects unique values."
      ]
    },
    {
      "cell_type": "markdown",
      "metadata": {
        "id": "Sp5IStYyq0nV"
      },
      "source": [
        "## Qualitative Variables"
      ]
    },
    {
      "cell_type": "markdown",
      "metadata": {
        "id": "qp32Gyr7q0nV"
      },
      "source": [
        "### indicator of birth weight less than 2.5 kg"
      ]
    },
    {
      "cell_type": "code",
      "execution_count": null,
      "metadata": {
        "id": "pLeXBtdWq0nW",
        "outputId": "254ccd05-df87-499c-b56a-5af7a0ce5de7"
      },
      "outputs": [
        {
          "data": {
            "text/plain": [
              "<matplotlib.axes._subplots.AxesSubplot at 0x7f985a1412b0>"
            ]
          },
          "execution_count": 105,
          "metadata": {},
          "output_type": "execute_result"
        },
        {
          "data": {
            "image/png": "[encoded data removed]",
            "text/plain": [
              "<Figure size 432x288 with 1 Axes>"
            ]
          },
          "metadata": {
            "needs_background": "light"
          },
          "output_type": "display_data"
        }
      ],
      "source": [
        "d['low'].value_counts().plot.bar(color='yellow')"
      ]
    },
    {
      "cell_type": "markdown",
      "metadata": {
        "id": "d5sVpJoaq0nW"
      },
      "source": [
        "Most pacients were born with a weight equal or higher than 2.5 kg.\n",
        "A bar plot helps to visualize the cathegories that have more cases."
      ]
    },
    {
      "cell_type": "markdown",
      "metadata": {
        "id": "mBsxq2DLq0nW"
      },
      "source": [
        "### mother's race"
      ]
    },
    {
      "cell_type": "code",
      "execution_count": null,
      "metadata": {
        "id": "QEJFc8eeq0nW",
        "outputId": "32ff9469-7bb4-466d-e773-862fddc02797"
      },
      "outputs": [
        {
          "data": {
            "text/plain": [
              "<matplotlib.axes._subplots.AxesSubplot at 0x7f985a31bee0>"
            ]
          },
          "execution_count": 106,
          "metadata": {},
          "output_type": "execute_result"
        },
        {
          "data": {
            "image/png": "[encoded data removed]",
            "text/plain": [
              "<Figure size 432x288 with 1 Axes>"
            ]
          },
          "metadata": {},
          "output_type": "display_data"
        }
      ],
      "source": [
        "cnt = d['race'].value_counts()\n",
        "cnt.plot.pie()"
      ]
    },
    {
      "cell_type": "markdown",
      "metadata": {
        "id": "xYkVXivaq0nW"
      },
      "source": [
        "Most pacients have white mothers.\n",
        "Pie chart also helps to analyse the dimension of each group"
      ]
    },
    {
      "cell_type": "markdown",
      "metadata": {
        "id": "RLPkN2rTq0nW"
      },
      "source": [
        "### mother's age in years"
      ]
    },
    {
      "cell_type": "code",
      "execution_count": null,
      "metadata": {
        "id": "ELv2snWvq0nW",
        "outputId": "8b656aee-d63d-4d56-a8e4-f6464ac638b2"
      },
      "outputs": [
        {
          "data": {
            "text/plain": [
              "<matplotlib.axes._subplots.AxesSubplot at 0x7f987b0c64f0>"
            ]
          },
          "execution_count": 107,
          "metadata": {},
          "output_type": "execute_result"
        },
        {
          "data": {
            "image/png": "[encoded data removed]",
            "text/plain": [
              "<Figure size 432x288 with 1 Axes>"
            ]
          },
          "metadata": {
            "needs_background": "light"
          },
          "output_type": "display_data"
        }
      ],
      "source": [
        "d['age'].plot.hist(color='pink')"
      ]
    },
    {
      "cell_type": "markdown",
      "metadata": {
        "id": "SLAOZ6SCq0nW"
      },
      "source": [
        "Most mothers are younger than 25 years old.\n",
        "The histogram shows the frequency of the variable."
      ]
    },
    {
      "cell_type": "code",
      "execution_count": null,
      "metadata": {
        "id": "ofiOTR9bq0nW",
        "outputId": "63a62f81-8b8c-47ce-e8fd-2f082a420ebb"
      },
      "outputs": [
        {
          "data": {
            "text/plain": [
              "<matplotlib.axes._subplots.AxesSubplot at 0x7f980812e640>"
            ]
          },
          "execution_count": 115,
          "metadata": {},
          "output_type": "execute_result"
        },
        {
          "data": {
            "image/png": "[encoded data removed]",
            "text/plain": [
              "<Figure size 432x288 with 1 Axes>"
            ]
          },
          "metadata": {
            "needs_background": "light"
          },
          "output_type": "display_data"
        }
      ],
      "source": [
        "d['age'].plot.density(color='magenta')"
      ]
    },
    {
      "cell_type": "markdown",
      "metadata": {
        "id": "WB-aKFBNq0nX"
      },
      "source": [
        "Most mothers have age between arround 15 and 35.\n",
        "This graphic helps to understand which ages have the most density"
      ]
    },
    {
      "cell_type": "markdown",
      "metadata": {
        "id": "8ko9lyVfq0nX"
      },
      "source": [
        "### mother's weight in pounds at last menstrual period"
      ]
    },
    {
      "cell_type": "code",
      "execution_count": null,
      "metadata": {
        "id": "P9UOpKW2q0nX",
        "outputId": "12658ed9-72b9-47b3-a468-0d4692739ec6"
      },
      "outputs": [
        {
          "data": {
            "text/plain": [
              "[<matplotlib.lines.Line2D at 0x7f98080f1d90>]"
            ]
          },
          "execution_count": 109,
          "metadata": {},
          "output_type": "execute_result"
        },
        {
          "data": {
            "image/png": "[encoded data removed]",
            "text/plain": [
              "<Figure size 432x288 with 1 Axes>"
            ]
          },
          "metadata": {
            "needs_background": "light"
          },
          "output_type": "display_data"
        }
      ],
      "source": [
        "import matplotlib.pyplot as plt\n",
        "plt.plot(d['lwt'], color='lavender')\n",
        "plt.plot(sorted(d['lwt']),color='purple')"
      ]
    },
    {
      "cell_type": "markdown",
      "metadata": {
        "id": "euhzOqTXq0nX"
      },
      "source": [
        "Most mothers had weitht have up to 150 pounds"
      ]
    },
    {
      "cell_type": "code",
      "execution_count": null,
      "metadata": {
        "id": "UQw5kfkaq0nX",
        "outputId": "38f95277-3401-4488-f3f6-5a29379f4df3"
      },
      "outputs": [
        {
          "data": {
            "text/plain": [
              "<matplotlib.axes._subplots.AxesSubplot at 0x7f985a453880>"
            ]
          },
          "execution_count": 116,
          "metadata": {},
          "output_type": "execute_result"
        },
        {
          "data": {
            "image/png": "[encoded data removed]",
            "text/plain": [
              "<Figure size 432x288 with 1 Axes>"
            ]
          },
          "metadata": {
            "needs_background": "light"
          },
          "output_type": "display_data"
        }
      ],
      "source": [
        "d['lwt'].plot.box(color='green')"
      ]
    },
    {
      "cell_type": "markdown",
      "metadata": {
        "id": "cYwBtvu-q0nX"
      },
      "source": [
        "70% of the mothers had weitht less than 150 pounds.\n",
        "Whiskers Box is dispertion graphic that shows that inside the 'box' there is 50% of the sample. it also indicates outliers"
      ]
    },
    {
      "cell_type": "markdown",
      "metadata": {
        "id": "Acd5RcT6q0nX"
      },
      "source": [
        "### Relationships between quantitive variables"
      ]
    },
    {
      "cell_type": "code",
      "execution_count": null,
      "metadata": {
        "id": "sPLZIPqOq0nX",
        "outputId": "21e47071-e1e0-45ad-83bf-133e8495278b"
      },
      "outputs": [
        {
          "data": {
            "image/png": "[encoded data removed]",
            "text/plain": [
              "<Figure size 360x360 with 1 Axes>"
            ]
          },
          "metadata": {
            "needs_background": "light"
          },
          "output_type": "display_data"
        }
      ],
      "source": [
        "import seaborn as sns\n",
        "sns.lmplot('lwt','age',d);"
      ]
    },
    {
      "cell_type": "markdown",
      "metadata": {
        "id": "_hi6vYdKq0nX"
      },
      "source": [
        "The correlation is not that strong"
      ]
    },
    {
      "cell_type": "code",
      "execution_count": null,
      "metadata": {
        "id": "DiOlPEkgq0nX"
      },
      "outputs": [],
      "source": []
    }
  ],
  "metadata": {
    "kernelspec": {
      "display_name": "Python 3",
      "language": "python",
      "name": "python3"
    },
    "language_info": {
      "codemirror_mode": {
        "name": "ipython",
        "version": 3
      },
      "file_extension": ".py",
      "mimetype": "text/x-python",
      "name": "python",
      "nbconvert_exporter": "python",
      "pygments_lexer": "ipython3",
      "version": "3.8.3"
    },
    "colab": {
      "provenance": [],
      "include_colab_link": true
    }
  },
  "nbformat": 4,
  "nbformat_minor": 0
}